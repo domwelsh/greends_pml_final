{
 "cells": [
  {
   "cell_type": "code",
   "execution_count": 1,
   "metadata": {},
   "outputs": [],
   "source": [
    "import numpy as np\n",
    "import pandas as pd\n",
    "import matplotlib.pyplot as plt\n",
    "import random\n",
    "import torch\n",
    "import torch.nn as nn\n",
    "import torch.optim as optim\n",
    "from sklearn.metrics import classification_report, confusion_matrix, ConfusionMatrixDisplay, accuracy_score, make_scorer\n",
    "from torch.utils.data import DataLoader, TensorDataset\n",
    "import scipy.stats as stats\n",
    "from torchsummary import summary\n",
    "from sklearn.model_selection import train_test_split, GridSearchCV\n",
    "from sklearn.preprocessing import MinMaxScaler, StandardScaler\n",
    "from sklearn.base import BaseEstimator\n",
    "from torchmetrics import MeanSquaredError, R2Score"
   ]
  },
  {
   "cell_type": "markdown",
   "metadata": {},
   "source": [
    "## Load Data"
   ]
  },
  {
   "cell_type": "code",
   "execution_count": 2,
   "metadata": {},
   "outputs": [],
   "source": [
    "df = pd.read_csv('./leap-atmospheric-physics-ai-climsim/train.csv', sep=',', nrows=10000)"
   ]
  },
  {
   "cell_type": "code",
   "execution_count": 3,
   "metadata": {},
   "outputs": [
    {
     "name": "stdout",
     "output_type": "stream",
     "text": [
      "Training data:  557\n"
     ]
    }
   ],
   "source": [
    "# double check column index num to split input and output data\n",
    "print(\"Training data: \", df.columns.get_loc('ptend_t_0'))"
   ]
  },
  {
   "cell_type": "code",
   "execution_count": 4,
   "metadata": {},
   "outputs": [
    {
     "data": {
      "text/plain": [
       "Index(['state_t_0', 'state_t_1', 'state_t_2', 'state_t_3', 'state_t_4',\n",
       "       'state_t_5', 'state_t_6', 'state_t_7', 'state_t_8', 'state_t_9',\n",
       "       ...\n",
       "       'pbuf_N2O_50', 'pbuf_N2O_51', 'pbuf_N2O_52', 'pbuf_N2O_53',\n",
       "       'pbuf_N2O_54', 'pbuf_N2O_55', 'pbuf_N2O_56', 'pbuf_N2O_57',\n",
       "       'pbuf_N2O_58', 'pbuf_N2O_59'],\n",
       "      dtype='object', length=556)"
      ]
     },
     "execution_count": 4,
     "metadata": {},
     "output_type": "execute_result"
    }
   ],
   "source": [
    "# 556 input columns, double check that is correct\n",
    "# last input variable should be pbuf_N20_59\n",
    "df.iloc[:, 1:557].columns"
   ]
  },
  {
   "cell_type": "code",
   "execution_count": 5,
   "metadata": {},
   "outputs": [
    {
     "data": {
      "text/plain": [
       "float64    924\n",
       "object       1\n",
       "Name: count, dtype: int64"
      ]
     },
     "execution_count": 5,
     "metadata": {},
     "output_type": "execute_result"
    }
   ],
   "source": [
    "df.dtypes.value_counts()"
   ]
  },
  {
   "cell_type": "markdown",
   "metadata": {},
   "source": [
    "## Feature Selection"
   ]
  },
  {
   "cell_type": "code",
   "execution_count": 6,
   "metadata": {},
   "outputs": [],
   "source": [
    "input_df = df.iloc[:, 1:557]\n",
    "output_df = df.iloc[:, 557:]"
   ]
  },
  {
   "cell_type": "code",
   "execution_count": 7,
   "metadata": {},
   "outputs": [
    {
     "name": "stdout",
     "output_type": "stream",
     "text": [
      "238\n",
      "[ 60  61  62  63  64  65  66  67  68  69  70  71  72  73  74  75  76  77\n",
      "  78 120 121 122 123 124 125 126 127 128 129 130 131 132 133 134 135 136\n",
      " 137 138 139 140 141 142 143 144 145 146 147 148 149 180 181 182 183 184\n",
      " 185 186 187 188 189 190 191 192 193 194 195 196 197 376 377 378 379 380\n",
      " 381 382 388 389 394 395 396 397 398 399 400 401 402 403 404 405 406 407\n",
      " 408 409 410 411 412 413 414 415 416 417 418 419 420 421 422 423 424 425\n",
      " 426 427 428 429 430 431 432 433 434 435 436 437 438 439 440 441 442 443\n",
      " 444 445 446 447 448 449 450 451 452 453 454 455 456 457 458 459 460 461\n",
      " 462 463 464 465 466 467 468 469 470 471 472 473 474 475 476 477 478 479\n",
      " 480 481 482 483 484 485 486 487 488 489 490 491 492 493 494 495 496 497\n",
      " 498 499 500 501 502 503 504 505 506 507 508 509 510 511 512 513 514 515\n",
      " 516 517 518 519 520 521 522 523 524 525 526 527 528 529 530 531 532 533\n",
      " 534 535 536 537 538 539 540 541 542 543 544 545 546 547 548 549 550 551\n",
      " 552 553 554 555]\n"
     ]
    }
   ],
   "source": [
    "# check which columns have very small variance\n",
    "low_variance_cols = np.where(np.std(input_df, axis=0) < 1e-6)[0]\n",
    "print(len(low_variance_cols))\n",
    "print(low_variance_cols)"
   ]
  },
  {
   "cell_type": "code",
   "execution_count": 8,
   "metadata": {},
   "outputs": [
    {
     "name": "stderr",
     "output_type": "stream",
     "text": [
      "/Library/Frameworks/Python.framework/Versions/3.12/lib/python3.12/site-packages/numpy/lib/function_base.py:2897: RuntimeWarning: invalid value encountered in divide\n",
      "  c /= stddev[:, None]\n",
      "/Library/Frameworks/Python.framework/Versions/3.12/lib/python3.12/site-packages/numpy/lib/function_base.py:2898: RuntimeWarning: invalid value encountered in divide\n",
      "  c /= stddev[None, :]\n"
     ]
    },
    {
     "name": "stdout",
     "output_type": "stream",
     "text": [
      "[60, 61, 62, 63, 64, 65, 66, 67, 68, 69, 70, 71, 72, 73, 74, 75, 76, 77, 78, 120, 121, 122, 123, 124, 125, 126, 127, 128, 129, 130, 131, 132, 133, 134, 136, 137, 138, 139, 140, 141, 142, 143, 144, 145, 146, 147, 148, 149, 180, 181, 182, 183, 184, 185, 186, 187, 188, 189, 190, 191, 192, 193, 194, 195, 196, 197, 376, 377, 378, 379, 380, 381, 382, 388, 389, 394, 395, 396, 397, 398, 399, 400, 401, 402, 403, 404, 405, 406, 407, 408, 409, 410, 411, 412, 413, 414, 415, 416, 417, 418, 419, 420, 421, 422, 423, 424, 425, 426, 427, 428, 429, 430, 431, 432, 433, 434, 435, 436, 437, 438, 439, 440, 441, 442, 443, 444, 445, 446, 447, 448, 449, 450, 451, 452, 453, 454, 455, 456, 457, 458, 459, 460, 461, 462, 496, 497, 498, 499, 500, 501, 502, 503, 504, 505, 506, 507, 508, 509, 510, 511, 512, 513, 514, 515, 516, 517, 518, 519, 520, 521, 522]\n",
      "171\n"
     ]
    }
   ],
   "source": [
    "# check if any of small variance features have correlation with outputs\n",
    "correlated_cols = []\n",
    "\n",
    "for col_index in low_variance_cols:\n",
    "    correlation_check = 0\n",
    "    for output_col in output_df.columns:\n",
    "        input_col = input_df.columns[col_index]\n",
    "        corr_coef = input_df[input_col].corr(output_df[output_col])\n",
    "        if -0.1 <= corr_coef <= 0.1 or np.isnan(corr_coef):\n",
    "            continue\n",
    "        else:\n",
    "            correlation_check = 1\n",
    "            break\n",
    "    if correlation_check == 1:\n",
    "        correlated_cols.append(col_index)\n",
    "\n",
    "print(correlated_cols)\n",
    "print(len(correlated_cols))"
   ]
  },
  {
   "cell_type": "code",
   "execution_count": 9,
   "metadata": {},
   "outputs": [
    {
     "name": "stdout",
     "output_type": "stream",
     "text": [
      "67\n",
      "[135, 523, 524, 525, 526, 527, 528, 529, 530, 531, 532, 533, 534, 535, 536, 537, 538, 539, 540, 541, 542, 543, 544, 545, 546, 547, 548, 549, 550, 551, 552, 553, 554, 555, 463, 464, 465, 466, 467, 468, 469, 470, 471, 472, 473, 474, 475, 476, 477, 478, 479, 480, 481, 482, 483, 484, 485, 486, 487, 488, 489, 490, 491, 492, 493, 494, 495]\n"
     ]
    }
   ],
   "source": [
    "# create list of features with no correlation\n",
    "set1 = set(low_variance_cols)\n",
    "set2 = set(correlated_cols)\n",
    "\n",
    "no_corr_or_var = list(set1 - set2)\n",
    "print(len(no_corr_or_var))\n",
    "print(no_corr_or_var)"
   ]
  },
  {
   "cell_type": "code",
   "execution_count": 10,
   "metadata": {},
   "outputs": [
    {
     "name": "stdout",
     "output_type": "stream",
     "text": [
      "<class 'pandas.core.frame.DataFrame'>\n",
      "RangeIndex: 10000 entries, 0 to 9999\n",
      "Columns: 489 entries, state_t_0 to pbuf_N2O_26\n",
      "dtypes: float64(489)\n",
      "memory usage: 37.3 MB\n"
     ]
    }
   ],
   "source": [
    "# drop low variance with no correlation columns\n",
    "input_df_clean = input_df.drop(input_df.columns[no_corr_or_var], axis=1)\n",
    "input_df_clean.info()"
   ]
  },
  {
   "cell_type": "code",
   "execution_count": 11,
   "metadata": {},
   "outputs": [
    {
     "name": "stdout",
     "output_type": "stream",
     "text": [
      "Number of input features not normally distributed = 477 out of 489\n"
     ]
    }
   ],
   "source": [
    "# check normal distribution, use MinMaxScaler if most features are not normally distributed\n",
    "p_threshold = 0.05\n",
    "not_norm_num = 0\n",
    "for col in input_df_clean.iloc[:, 1:].columns:\n",
    "    stat, p = stats.normaltest(df[col])\n",
    "    if p <= p_threshold:\n",
    "        not_norm_num += 1\n",
    "\n",
    "print(f'Number of input features not normally distributed = {not_norm_num} out of {len(input_df_clean.columns)}')"
   ]
  },
  {
   "cell_type": "markdown",
   "metadata": {},
   "source": [
    "## Setting up Mac GPU"
   ]
  },
  {
   "cell_type": "code",
   "execution_count": 12,
   "metadata": {},
   "outputs": [
    {
     "name": "stdout",
     "output_type": "stream",
     "text": [
      "tensor([1.], device='mps:0')\n"
     ]
    }
   ],
   "source": [
    "# Swap to MacOS GPU via MPS\n",
    "if torch.backends.mps.is_available():\n",
    "   device = torch.device(\"mps\")\n",
    "   x = torch.ones(1, device=device)\n",
    "   print (x)\n",
    "else:\n",
    "   print (\"MPS device not found.\")"
   ]
  },
  {
   "cell_type": "markdown",
   "metadata": {},
   "source": [
    "## Data Sets"
   ]
  },
  {
   "cell_type": "code",
   "execution_count": 13,
   "metadata": {},
   "outputs": [],
   "source": [
    "# split into train, validation, and test sets\n",
    "X_train, X_val_test, y_train, y_val_test = train_test_split(input_df_clean, output_df, test_size=0.3, random_state=42)\n",
    "X_val, X_test, y_val, y_test = train_test_split(X_val_test, y_val_test, test_size=0.5, random_state=42)\n",
    "\n",
    "# convert to numpy arrays\n",
    "X_train_numpy = X_train.to_numpy()\n",
    "X_val_numpy = X_val.to_numpy()\n",
    "X_test_numpy = X_test.to_numpy()\n",
    "y_train_numpy = y_train.to_numpy()\n",
    "y_val_numpy = y_val.to_numpy()\n",
    "y_test_numpy = y_test.to_numpy()\n",
    "\n",
    "# MinMaxScaler due to normal distribution test failing earlier\n",
    "scaler = MinMaxScaler()\n",
    "X_train_numpy = scaler.fit_transform(X_train_numpy)\n",
    "X_val_numpy = scaler.transform(X_val_numpy)\n",
    "X_test_numpy = scaler.transform(X_test_numpy)\n",
    "\n",
    "# convert to tensors\n",
    "X_train_tensor = torch.tensor(X_train_numpy, dtype=torch.float32)\n",
    "X_val_tensor = torch.tensor(X_val_numpy, dtype=torch.float32)\n",
    "X_test_tensor = torch.tensor(X_test_numpy, dtype=torch.float32)\n",
    "y_train_tensor = torch.tensor(y_train_numpy, dtype=torch.float32)\n",
    "y_val_tensor = torch.tensor(y_val_numpy, dtype=torch.float32)\n",
    "y_test_tensor = torch.tensor(y_test_numpy, dtype=torch.float32)"
   ]
  },
  {
   "cell_type": "markdown",
   "metadata": {},
   "source": [
    "## Hyperparameters"
   ]
  },
  {
   "cell_type": "code",
   "execution_count": 14,
   "metadata": {},
   "outputs": [],
   "source": [
    "input_size = X_train_tensor.shape[1]\n",
    "hidden_size = 694\n",
    "output_size = y_train_tensor.shape[1]\n",
    "batch_size = 256\n",
    "num_epochs = 80\n",
    "learning_rate = 0.01\n",
    "regularization_param = 0.0001\n",
    "momentum_param = 0.9\n",
    "dropout_p = 0.1\n",
    "\n",
    "scheduler_factor = 0.1\n",
    "scheduler_patience = 5"
   ]
  },
  {
   "cell_type": "markdown",
   "metadata": {},
   "source": [
    "## Defining the model"
   ]
  },
  {
   "cell_type": "code",
   "execution_count": 15,
   "metadata": {},
   "outputs": [],
   "source": [
    "# hidden layer function\n",
    "def hidden_layer(hidden_size=hidden_size, dropout_p=dropout_p):\n",
    "    return nn.Sequential(\n",
    "        nn.Linear(hidden_size, hidden_size),\n",
    "        nn.BatchNorm1d(hidden_size),\n",
    "        nn.LeakyReLU(),\n",
    "        nn.Dropout(dropout_p)\n",
    "    )\n",
    "\n",
    "# create model variable and input layer\n",
    "model = nn.Sequential(\n",
    "    nn.Linear(input_size, hidden_size),\n",
    "    nn.BatchNorm1d(hidden_size),\n",
    "    nn.LeakyReLU(),\n",
    "    nn.Dropout(dropout_p),\n",
    ")\n",
    "# add hidden layers\n",
    "for _ in range(3):\n",
    "    model.add_module(str(len(model)), hidden_layer(hidden_size, dropout_p))\n",
    "# add output layer\n",
    "model.add_module(str(len(model)), nn.Linear(hidden_size, output_size))\n",
    "\n",
    "# evaluation metrics\n",
    "metric = R2Score(num_outputs=output_size).to(device=device)\n",
    "criterion = nn.MSELoss()\n",
    "optimizer = optim.Adam(model.parameters(), lr=learning_rate, weight_decay=regularization_param)\n",
    "\n",
    "# scheduler\n",
    "scheduler = optim.lr_scheduler.ReduceLROnPlateau(optimizer, factor=scheduler_factor, patience=scheduler_patience)\n",
    "\n",
    "# data loaders\n",
    "train_dl = DataLoader(TensorDataset(X_train_tensor, y_train_tensor), batch_size, shuffle=True)\n",
    "val_dl = DataLoader(TensorDataset(X_val_tensor, y_val_tensor), batch_size, shuffle=False)\n",
    "test_dl = DataLoader(TensorDataset(X_test_tensor, y_test_tensor), batch_size, shuffle=False)"
   ]
  },
  {
   "cell_type": "markdown",
   "metadata": {},
   "source": [
    "## Running the model"
   ]
  },
  {
   "cell_type": "code",
   "execution_count": 16,
   "metadata": {},
   "outputs": [
    {
     "name": "stdout",
     "output_type": "stream",
     "text": [
      "Epoch [1/80], Train Loss: 442.9306, Val Loss: 283.1859, R2 Score: 0.5743\n",
      "Validation loss improved. Saving model...\n",
      "\n",
      "Epoch [2/80], Train Loss: 185.5951, Val Loss: 156.0741, R2 Score: 0.6700\n",
      "Validation loss improved. Saving model...\n",
      "\n",
      "Epoch [3/80], Train Loss: 57.8141, Val Loss: 29.6984, R2 Score: 0.7651\n",
      "Validation loss improved. Saving model...\n",
      "\n",
      "Epoch [4/80], Train Loss: 20.1724, Val Loss: 40.7653, R2 Score: 0.8084\n",
      "No improvement. Patience count: 1\n",
      "Epoch [5/80], Train Loss: 17.3571, Val Loss: 34.6544, R2 Score: 0.8363\n",
      "No improvement. Patience count: 2\n",
      "Epoch [6/80], Train Loss: 14.3086, Val Loss: 41.7330, R2 Score: 0.8531\n",
      "No improvement. Patience count: 3\n",
      "Epoch [7/80], Train Loss: 11.5479, Val Loss: 16.2205, R2 Score: 0.8706\n",
      "Validation loss improved. Saving model...\n",
      "\n",
      "Epoch [8/80], Train Loss: 11.4860, Val Loss: 20.7994, R2 Score: 0.8829\n",
      "No improvement. Patience count: 1\n",
      "Epoch [9/80], Train Loss: 11.2864, Val Loss: 14.2635, R2 Score: 0.8935\n",
      "Validation loss improved. Saving model...\n",
      "\n",
      "Epoch [10/80], Train Loss: 10.5115, Val Loss: 19.3999, R2 Score: 0.9012\n",
      "No improvement. Patience count: 1\n",
      "Epoch [11/80], Train Loss: 10.1662, Val Loss: 14.8636, R2 Score: 0.9082\n",
      "No improvement. Patience count: 2\n",
      "Epoch [12/80], Train Loss: 10.1445, Val Loss: 28.0736, R2 Score: 0.9123\n",
      "No improvement. Patience count: 3\n",
      "Epoch [13/80], Train Loss: 10.5689, Val Loss: 19.9597, R2 Score: 0.9167\n",
      "No improvement. Patience count: 4\n",
      "Epoch [14/80], Train Loss: 9.3534, Val Loss: 18.3247, R2 Score: 0.9207\n",
      "Reducing learning rate. Patience count: 5\n",
      "Epoch [15/80], Train Loss: 10.3649, Val Loss: 19.3791, R2 Score: 0.9241\n",
      "No improvement. Patience count: 6\n",
      "Epoch [16/80], Train Loss: 8.8154, Val Loss: 22.7084, R2 Score: 0.9267\n",
      "No improvement. Patience count: 7\n",
      "Epoch [17/80], Train Loss: 8.3795, Val Loss: 20.1629, R2 Score: 0.9292\n",
      "No improvement. Patience count: 8\n",
      "Epoch [18/80], Train Loss: 7.2121, Val Loss: 17.6292, R2 Score: 0.9317\n",
      "No improvement. Patience count: 9\n",
      "Epoch [19/80], Train Loss: 8.2986, Val Loss: 23.4601, R2 Score: 0.9334\n",
      "Reducing learning rate. Patience count: 10\n",
      "Epoch [20/80], Train Loss: 6.2716, Val Loss: 20.4603, R2 Score: 0.9352\n",
      "No improvement. Patience count: 11\n",
      "Epoch [21/80], Train Loss: 6.4617, Val Loss: 17.4320, R2 Score: 0.9370\n",
      "No improvement. Patience count: 12\n",
      "Epoch [22/80], Train Loss: 6.9889, Val Loss: 15.6910, R2 Score: 0.9388\n",
      "No improvement. Patience count: 13\n",
      "Epoch [23/80], Train Loss: 7.0070, Val Loss: 19.5400, R2 Score: 0.9402\n",
      "No improvement. Patience count: 14\n",
      "Epoch [24/80], Train Loss: 7.2656, Val Loss: 16.1080, R2 Score: 0.9417\n",
      "Training stopped. Patience count: 15\n"
     ]
    }
   ],
   "source": [
    "train_losses = []\n",
    "val_losses = []\n",
    "r2_scores = []\n",
    "patience_count = 0\n",
    "best_loss = float('inf')\n",
    "best_model = None\n",
    "total_epochs = 0\n",
    "\n",
    "model.to(device)\n",
    "\n",
    "for epoch in range(num_epochs):\n",
    "    total_epochs += 1\n",
    "\n",
    "    model.train()\n",
    "    train_loss = 0.0\n",
    "    for x_batch, y_batch in train_dl:\n",
    "        x_batch, y_batch = x_batch.to(device), y_batch.to(device)\n",
    "        # Forward pass\n",
    "        predictions = model(x_batch)\n",
    "        loss = criterion(predictions, y_batch)\n",
    "\n",
    "        # Backward pass and optimization\n",
    "        optimizer.zero_grad()\n",
    "        loss.backward()\n",
    "        optimizer.step()\n",
    "\n",
    "        train_loss += loss.item()\n",
    "\n",
    "    train_loss /= len(train_dl)\n",
    "    train_losses.append(train_loss)\n",
    "\n",
    "    # Validation\n",
    "    model.eval()\n",
    "    val_loss = 0.0\n",
    "    all_outputs = torch.tensor([], dtype=torch.float32, device=device)\n",
    "    all_targets = torch.tensor([], dtype=torch.float32, device=device)\n",
    "    with torch.no_grad():\n",
    "        for x_val, y_val in val_dl:\n",
    "            x_val, y_val = x_val.to(device), y_val.to(device)\n",
    "            outputs = model(x_val)\n",
    "            val_loss += criterion(outputs, y_val).item()\n",
    "            all_outputs = torch.cat((all_outputs, outputs), dim=0)\n",
    "            all_targets = torch.cat((all_targets, y_val), dim=0)\n",
    "\n",
    "    val_loss /= len(val_dl)\n",
    "    val_losses.append(val_loss)\n",
    "\n",
    "    # r2 score\n",
    "    for i in range(output_size):\n",
    "        metric.update(all_outputs[:, i], all_targets[:, i])\n",
    "    r2_score = metric.compute()\n",
    "    r2_scores.append(r2_score.item())\n",
    "    \n",
    "    print(f'Epoch [{epoch+1}/{num_epochs}], Train Loss: {train_loss:.4f}, Val Loss: {val_loss:.4f}, R2 Score: {r2_score:.4f}')\n",
    "\n",
    "    # run scheduler\n",
    "    scheduler.step(val_loss)\n",
    "\n",
    "    if val_loss < best_loss:\n",
    "        best_loss = val_loss\n",
    "        patience_count = 0\n",
    "        best_model = model.state_dict()\n",
    "        print('Validation loss improved. Saving model...\\n')\n",
    "    else:\n",
    "        patience_count += 1\n",
    "        if patience_count == scheduler_patience * 3:\n",
    "            print('Training stopped. Patience count:', patience_count)\n",
    "            break\n",
    "        elif patience_count % scheduler_patience == 0:\n",
    "            print('Reducing learning rate. Patience count:', patience_count)\n",
    "        else:\n",
    "            print(\"No improvement. Patience count:\", patience_count)\n",
    "\n"
   ]
  },
  {
   "cell_type": "code",
   "execution_count": 17,
   "metadata": {},
   "outputs": [
    {
     "data": {
      "image/png": "[encoded data removed]",
      "text/plain": [
       "<Figure size 640x480 with 1 Axes>"
      ]
     },
     "metadata": {},
     "output_type": "display_data"
    },
    {
     "data": {
      "image/png": "[encoded data removed]",
      "text/plain": [
       "<Figure size 640x480 with 1 Axes>"
      ]
     },
     "metadata": {},
     "output_type": "display_data"
    }
   ],
   "source": [
    "# Plotting train and validation losses\n",
    "plt.plot(range(total_epochs), train_losses, label='Train Loss')\n",
    "plt.plot(range(total_epochs), val_losses, label='Validation Loss')\n",
    "plt.xlabel('Epoch')\n",
    "plt.ylabel('Loss')\n",
    "plt.title('Train and Validation Losses')\n",
    "plt.legend()\n",
    "plt.show()\n",
    "\n",
    "# Plotting r2 scores\n",
    "plt.plot(range(total_epochs), r2_scores, label='R2 Score')\n",
    "plt.xlabel('Epoch')\n",
    "plt.ylabel('R2 Score')\n",
    "plt.title('Validation Data - R2 Scores')\n",
    "plt.legend()\n",
    "plt.show()"
   ]
  },
  {
   "cell_type": "markdown",
   "metadata": {},
   "source": [
    "## Testing the model"
   ]
  },
  {
   "cell_type": "code",
   "execution_count": 18,
   "metadata": {},
   "outputs": [
    {
     "name": "stdout",
     "output_type": "stream",
     "text": [
      "Test Data Set Results\n",
      "Test Loss: 16.5688\n",
      "R2: 0.9431\n"
     ]
    }
   ],
   "source": [
    "test_model = model\n",
    "test_model.load_state_dict(best_model)\n",
    "\n",
    "test_loss = 0.0\n",
    "test_outputs = torch.tensor([], dtype=torch.float32, device=device)\n",
    "test_targets = torch.tensor([], dtype=torch.float32, device=device)\n",
    "\n",
    "test_model.eval()\n",
    "with torch.no_grad():\n",
    "    for x_test, y_test in test_dl:\n",
    "        x_test, y_test = x_test.to(device), y_test.to(device)\n",
    "        outputs = test_model(x_test)\n",
    "        test_loss += criterion(outputs, y_test).item()\n",
    "        test_outputs = torch.cat((test_outputs, outputs), dim=0)\n",
    "        test_targets = torch.cat((test_targets, y_test), dim=0)\n",
    "\n",
    "print(\"Test Data Set Results\")\n",
    "# loss\n",
    "test_loss /= len(test_dl)\n",
    "print(f\"Test Loss: {test_loss:.4f}\")\n",
    "\n",
    "# r2 score\n",
    "for i in range(output_size):\n",
    "    metric.update(test_outputs[:, i], test_targets[:, i])\n",
    "r2_score = metric.compute()\n",
    "\n",
    "print(f\"R2: {r2_score.item():.4f}\")"
   ]
  },
  {
   "cell_type": "markdown",
   "metadata": {},
   "source": [
    "## Saving the model"
   ]
  },
  {
   "cell_type": "code",
   "execution_count": null,
   "metadata": {},
   "outputs": [],
   "source": [
    "torch.save(best_model, 'PML_Final_Model.pt')"
   ]
  }
 ],
 "metadata": {
  "kernelspec": {
   "display_name": "Python 3",
   "language": "python",
   "name": "python3"
  },
  "language_info": {
   "codemirror_mode": {
    "name": "ipython",
    "version": 3
   },
   "file_extension": ".py",
   "mimetype": "text/x-python",
   "name": "python",
   "nbconvert_exporter": "python",
   "pygments_lexer": "ipython3",
   "version": "3.12.0"
  }
 },
 "nbformat": 4,
 "nbformat_minor": 2
}
