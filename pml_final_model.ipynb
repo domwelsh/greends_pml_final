{
 "cells": [
  {
   "cell_type": "code",
   "execution_count": 1,
   "metadata": {},
   "outputs": [],
   "source": [
    "import numpy as np\n",
    "import pandas as pd\n",
    "import matplotlib.pyplot as plt\n",
    "import random\n",
    "import torch\n",
    "import torch.nn as nn\n",
    "import torch.optim as optim\n",
    "from sklearn.metrics import classification_report, confusion_matrix, ConfusionMatrixDisplay, accuracy_score, make_scorer\n",
    "from torch.utils.data import DataLoader, TensorDataset, Dataset\n",
    "import scipy.stats as stats\n",
    "from torchsummary import summary\n",
    "from sklearn.model_selection import train_test_split, GridSearchCV\n",
    "from sklearn.preprocessing import MinMaxScaler, StandardScaler\n",
    "from sklearn.base import BaseEstimator\n",
    "from torchmetrics import MeanSquaredError, R2Score"
   ]
  },
  {
   "cell_type": "markdown",
   "metadata": {},
   "source": [
    "## Load Data"
   ]
  },
  {
   "cell_type": "code",
   "execution_count": 2,
   "metadata": {},
   "outputs": [],
   "source": [
    "df = pd.read_csv('./leap-atmospheric-physics-ai-climsim/train.csv', sep=',', nrows=1000000)"
   ]
  },
  {
   "cell_type": "markdown",
   "metadata": {},
   "source": [
    "## Feature Selection"
   ]
  },
  {
   "cell_type": "code",
   "execution_count": 3,
   "metadata": {},
   "outputs": [],
   "source": [
    "input_df = df.iloc[:, 1:557]\n",
    "output_df = df.iloc[:, 557:]"
   ]
  },
  {
   "cell_type": "code",
   "execution_count": 4,
   "metadata": {},
   "outputs": [
    {
     "name": "stdout",
     "output_type": "stream",
     "text": [
      "<class 'pandas.core.frame.DataFrame'>\n",
      "RangeIndex: 1000000 entries, 0 to 999999\n",
      "Columns: 474 entries, state_t_0 to pbuf_N2O_26\n",
      "dtypes: float64(474)\n",
      "memory usage: 3.5 GB\n"
     ]
    }
   ],
   "source": [
    "# drop low variance with no correlation columns\n",
    "no_corr_or_var = [523, 524, 525, 526, 527, 528, 529, 530, 531, 532, 533, 534, 535, 536, 537, 538, 539, 540, 541, 542, \n",
    "                  543, 544, 545, 546, 547, 548, 549, 550, 551, 552, 553, 554, 555, 60, 61, 62, 67, 68, 69, 120, 121, \n",
    "                  122, 123, 180, 181, 182, 185, 186, 187, 463, 464, 465, 466, 467, 468, 469, 470, 471, 472, 473, 474, \n",
    "                  475, 476, 477, 478, 479, 480, 481, 482, 483, 484, 485, 486, 487, 488, 489, 490, 491, 492, 493, 494, 495]\n",
    "input_df_clean = input_df.drop(input_df.columns[no_corr_or_var], axis=1)\n",
    "input_df_clean.info()"
   ]
  },
  {
   "cell_type": "markdown",
   "metadata": {},
   "source": [
    "## Setting up Mac GPU"
   ]
  },
  {
   "cell_type": "code",
   "execution_count": 5,
   "metadata": {},
   "outputs": [
    {
     "name": "stdout",
     "output_type": "stream",
     "text": [
      "tensor([1.], device='mps:0')\n"
     ]
    }
   ],
   "source": [
    "# Swap to MacOS GPU via MPS\n",
    "if torch.backends.mps.is_available():\n",
    "   device = torch.device(\"mps\")\n",
    "   x = torch.ones(1, device=device)\n",
    "   print (x)\n",
    "else:\n",
    "   print (\"MPS device not found.\")"
   ]
  },
  {
   "cell_type": "markdown",
   "metadata": {},
   "source": [
    "## Data Sets"
   ]
  },
  {
   "cell_type": "code",
   "execution_count": 6,
   "metadata": {},
   "outputs": [],
   "source": [
    "X_array = input_df_clean.to_numpy(dtype=np.float32)\n",
    "y_array = output_df.to_numpy(dtype=np.float32)\n",
    "\n",
    "# split into train, validation, and test sets\n",
    "X_train, X_val_test, y_train, y_val_test = train_test_split(X_array, y_array, test_size=0.3, random_state=42)\n",
    "X_val, X_test, y_val, y_test = train_test_split(X_val_test, y_val_test, test_size=0.5, random_state=42)\n",
    "\n",
    "# MinMaxScaler due to normal distribution test failing earlier\n",
    "scaler = MinMaxScaler()\n",
    "X_train_numpy = scaler.fit_transform(X_train)\n",
    "X_val_numpy = scaler.transform(X_val)\n",
    "X_test_numpy = scaler.transform(X_test)\n",
    "\n",
    "# convert to tensors\n",
    "X_train_tensor = torch.tensor(X_train_numpy, dtype=torch.float32)\n",
    "X_val_tensor = torch.tensor(X_val_numpy, dtype=torch.float32)\n",
    "X_test_tensor = torch.tensor(X_test_numpy, dtype=torch.float32)\n",
    "y_train_tensor = torch.tensor(y_train, dtype=torch.float32)\n",
    "y_val_tensor = torch.tensor(y_val, dtype=torch.float32)\n",
    "y_test_tensor = torch.tensor(y_test, dtype=torch.float32)"
   ]
  },
  {
   "cell_type": "markdown",
   "metadata": {},
   "source": [
    "## Hyperparameters"
   ]
  },
  {
   "cell_type": "code",
   "execution_count": 10,
   "metadata": {},
   "outputs": [],
   "source": [
    "input_size = X_train_tensor.shape[1]\n",
    "hidden_size = 694\n",
    "output_size = y_train_tensor.shape[1]\n",
    "batch_size = 64\n",
    "num_epochs = 80\n",
    "learning_rate = 0.01\n",
    "regularization_param = 0.0001\n",
    "momentum_param = 0.9\n",
    "dropout_p = 0.1\n",
    "\n",
    "scheduler_factor = 0.1\n",
    "scheduler_patience = 5"
   ]
  },
  {
   "cell_type": "markdown",
   "metadata": {},
   "source": [
    "## Defining the model"
   ]
  },
  {
   "cell_type": "code",
   "execution_count": 11,
   "metadata": {},
   "outputs": [],
   "source": [
    "# hidden layer function\n",
    "def hidden_layer(hidden_size=hidden_size, dropout_p=dropout_p):\n",
    "    return nn.Sequential(\n",
    "        nn.Linear(hidden_size, hidden_size),\n",
    "        nn.BatchNorm1d(hidden_size),\n",
    "        nn.LeakyReLU(),\n",
    "        nn.Dropout(dropout_p)\n",
    "    )\n",
    "\n",
    "# create model variable and input layer\n",
    "model = nn.Sequential(\n",
    "    nn.Linear(input_size, hidden_size),\n",
    "    nn.BatchNorm1d(hidden_size),\n",
    "    nn.LeakyReLU(),\n",
    "    nn.Dropout(dropout_p),\n",
    ")\n",
    "# add hidden layers\n",
    "for _ in range(3):\n",
    "    model.add_module(str(len(model)), hidden_layer(hidden_size, dropout_p))\n",
    "# add output layer\n",
    "model.add_module(str(len(model)), nn.Linear(hidden_size, output_size))\n",
    "\n",
    "# evaluation metrics\n",
    "metric = R2Score(num_outputs=output_size).to(device=device)\n",
    "criterion = nn.MSELoss()\n",
    "optimizer = optim.Adam(model.parameters(), lr=learning_rate, weight_decay=regularization_param)\n",
    "\n",
    "# scheduler\n",
    "scheduler = optim.lr_scheduler.ReduceLROnPlateau(optimizer, factor=scheduler_factor, patience=scheduler_patience)\n",
    "\n",
    "# data loaders\n",
    "train_dl = DataLoader(TensorDataset(X_train_tensor, y_train_tensor), batch_size, shuffle=True)\n",
    "val_dl = DataLoader(TensorDataset(X_val_tensor, y_val_tensor), batch_size, shuffle=False)\n",
    "test_dl = DataLoader(TensorDataset(X_test_tensor, y_test_tensor), batch_size, shuffle=False)"
   ]
  },
  {
   "cell_type": "markdown",
   "metadata": {},
   "source": [
    "## Running the model"
   ]
  },
  {
   "cell_type": "code",
   "execution_count": 12,
   "metadata": {},
   "outputs": [
    {
     "name": "stdout",
     "output_type": "stream",
     "text": [
      "Epoch [1/80], Train Loss: 14.1550, Val Loss: 14.3913, R2 Score: 0.9790\n",
      "Validation loss improved. Saving model...\n",
      "\n",
      "Epoch [2/80], Train Loss: 11.0816, Val Loss: 8.0918, R2 Score: 0.9836\n",
      "Validation loss improved. Saving model...\n",
      "\n",
      "Epoch [3/80], Train Loss: 10.4662, Val Loss: 7.5651, R2 Score: 0.9854\n",
      "Validation loss improved. Saving model...\n",
      "\n",
      "Epoch [4/80], Train Loss: 10.1418, Val Loss: 8.1868, R2 Score: 0.9860\n",
      "No improvement. Patience count: 1\n",
      "Epoch [5/80], Train Loss: 9.9851, Val Loss: 7.4667, R2 Score: 0.9867\n",
      "Validation loss improved. Saving model...\n",
      "\n",
      "Epoch [6/80], Train Loss: 9.9018, Val Loss: 10.7277, R2 Score: 0.9863\n",
      "No improvement. Patience count: 1\n",
      "Epoch [7/80], Train Loss: 9.8627, Val Loss: 7.9783, R2 Score: 0.9866\n",
      "No improvement. Patience count: 2\n",
      "Epoch [8/80], Train Loss: 9.8145, Val Loss: 8.8229, R2 Score: 0.9866\n",
      "No improvement. Patience count: 3\n",
      "Epoch [9/80], Train Loss: 9.7691, Val Loss: 10.5077, R2 Score: 0.9864\n",
      "No improvement. Patience count: 4\n",
      "Epoch [10/80], Train Loss: 9.8092, Val Loss: 7.2461, R2 Score: 0.9867\n",
      "Validation loss improved. Saving model...\n",
      "\n",
      "Epoch [11/80], Train Loss: 9.7514, Val Loss: 6.8446, R2 Score: 0.9870\n",
      "Validation loss improved. Saving model...\n",
      "\n",
      "Epoch [12/80], Train Loss: 9.7248, Val Loss: 7.3749, R2 Score: 0.9872\n",
      "No improvement. Patience count: 1\n",
      "Epoch [13/80], Train Loss: 9.6667, Val Loss: 7.5708, R2 Score: 0.9873\n",
      "No improvement. Patience count: 2\n",
      "Epoch [14/80], Train Loss: 9.6913, Val Loss: 7.8911, R2 Score: 0.9874\n",
      "No improvement. Patience count: 3\n",
      "Epoch [15/80], Train Loss: 9.6838, Val Loss: 15.8788, R2 Score: 0.9867\n",
      "No improvement. Patience count: 4\n",
      "Epoch [16/80], Train Loss: 9.6969, Val Loss: 7.1110, R2 Score: 0.9869\n",
      "Early stopping. Patience count: 5\n"
     ]
    }
   ],
   "source": [
    "train_losses = []\n",
    "val_losses = []\n",
    "r2_scores = []\n",
    "patience_count = 0\n",
    "best_loss = float('inf')\n",
    "best_model = None\n",
    "total_epochs = 0\n",
    "\n",
    "model.to(device)\n",
    "\n",
    "for epoch in range(num_epochs):\n",
    "    total_epochs += 1\n",
    "\n",
    "    model.train()\n",
    "    train_loss = 0.0\n",
    "    for x_batch, y_batch in train_dl:\n",
    "        x_batch, y_batch = x_batch.to(device), y_batch.to(device)\n",
    "        # Forward pass\n",
    "        predictions = model(x_batch)\n",
    "        loss = criterion(predictions, y_batch)\n",
    "\n",
    "        # Backward pass and optimization\n",
    "        optimizer.zero_grad()\n",
    "        loss.backward()\n",
    "        optimizer.step()\n",
    "\n",
    "        train_loss += loss.item()\n",
    "\n",
    "    train_loss /= len(train_dl)\n",
    "    train_losses.append(train_loss)\n",
    "\n",
    "    # Validation\n",
    "    model.eval()\n",
    "    val_loss = 0.0\n",
    "    all_outputs = torch.tensor([], dtype=torch.float32, device=device)\n",
    "    all_targets = torch.tensor([], dtype=torch.float32, device=device)\n",
    "    with torch.no_grad():\n",
    "        for x_val, y_val in val_dl:\n",
    "            x_val, y_val = x_val.to(device), y_val.to(device)\n",
    "            outputs = model(x_val)\n",
    "            val_loss += criterion(outputs, y_val).item()\n",
    "            all_outputs = torch.cat((all_outputs, outputs), dim=0)\n",
    "            all_targets = torch.cat((all_targets, y_val), dim=0)\n",
    "\n",
    "    val_loss /= len(val_dl)\n",
    "    val_losses.append(val_loss)\n",
    "\n",
    "    # r2 score\n",
    "    for i in range(output_size):\n",
    "        metric.update(all_outputs[:, i], all_targets[:, i])\n",
    "    r2_score = metric.compute()\n",
    "    r2_scores.append(r2_score.item())\n",
    "    \n",
    "    print(f'Epoch [{epoch+1}/{num_epochs}], Train Loss: {train_loss:.4f}, Val Loss: {val_loss:.4f}, R2 Score: {r2_score:.4f}')\n",
    "\n",
    "    # run scheduler\n",
    "    scheduler.step(val_loss)\n",
    "\n",
    "    if val_loss < best_loss:\n",
    "        best_loss = val_loss\n",
    "        patience_count = 0\n",
    "        best_model = model.state_dict()\n",
    "        print('Validation loss improved. Saving model...\\n')\n",
    "    else:\n",
    "        patience_count += 1\n",
    "        if patience_count == scheduler_patience * 3:\n",
    "            print('Training stopped. Patience count:', patience_count)\n",
    "            break\n",
    "        elif patience_count % scheduler_patience == 0:\n",
    "            print('Reducing learning rate. Patience count:', patience_count)\n",
    "        else:\n",
    "            print(\"No improvement. Patience count:\", patience_count)\n",
    "\n"
   ]
  },
  {
   "cell_type": "code",
   "execution_count": 13,
   "metadata": {},
   "outputs": [
    {
     "data": {
      "image/png": "[encoded data removed]",
      "text/plain": [
       "<Figure size 640x480 with 1 Axes>"
      ]
     },
     "metadata": {},
     "output_type": "display_data"
    },
    {
     "data": {
      "image/png": "[encoded data removed]",
      "text/plain": [
       "<Figure size 640x480 with 1 Axes>"
      ]
     },
     "metadata": {},
     "output_type": "display_data"
    }
   ],
   "source": [
    "# Plotting train and validation losses\n",
    "plt.plot(range(total_epochs), train_losses, label='Train Loss')\n",
    "plt.plot(range(total_epochs), val_losses, label='Validation Loss')\n",
    "plt.xlabel('Epoch')\n",
    "plt.ylabel('Loss')\n",
    "plt.title('Train and Validation Losses')\n",
    "plt.legend()\n",
    "plt.show()\n",
    "\n",
    "# Plotting r2 scores\n",
    "plt.plot(range(total_epochs), r2_scores, label='R2 Score')\n",
    "plt.xlabel('Epoch')\n",
    "plt.ylabel('R2 Score')\n",
    "plt.title('Validation Data - R2 Scores')\n",
    "plt.legend()\n",
    "plt.show()"
   ]
  },
  {
   "cell_type": "markdown",
   "metadata": {},
   "source": [
    "## Testing the model"
   ]
  },
  {
   "cell_type": "code",
   "execution_count": 14,
   "metadata": {},
   "outputs": [
    {
     "name": "stdout",
     "output_type": "stream",
     "text": [
      "Test Data Set Results\n",
      "Test Loss: 7.1725\n",
      "R2: 0.9870\n"
     ]
    }
   ],
   "source": [
    "test_model = model\n",
    "test_model.load_state_dict(best_model)\n",
    "\n",
    "test_loss = 0.0\n",
    "test_outputs = torch.tensor([], dtype=torch.float32, device=device)\n",
    "test_targets = torch.tensor([], dtype=torch.float32, device=device)\n",
    "\n",
    "test_model.eval()\n",
    "with torch.no_grad():\n",
    "    for x_test, y_test in test_dl:\n",
    "        x_test, y_test = x_test.to(device), y_test.to(device)\n",
    "        outputs = test_model(x_test)\n",
    "        test_loss += criterion(outputs, y_test).item()\n",
    "        test_outputs = torch.cat((test_outputs, outputs), dim=0)\n",
    "        test_targets = torch.cat((test_targets, y_test), dim=0)\n",
    "\n",
    "print(\"Test Data Set Results\")\n",
    "# loss\n",
    "test_loss /= len(test_dl)\n",
    "print(f\"Test Loss: {test_loss:.4f}\")\n",
    "\n",
    "# r2 score\n",
    "for i in range(output_size):\n",
    "    metric.update(test_outputs[:, i], test_targets[:, i])\n",
    "r2_score = metric.compute()\n",
    "\n",
    "print(f\"R2: {r2_score.item():.4f}\")"
   ]
  },
  {
   "cell_type": "markdown",
   "metadata": {},
   "source": [
    "## Saving the model"
   ]
  },
  {
   "cell_type": "code",
   "execution_count": null,
   "metadata": {},
   "outputs": [],
   "source": [
    "torch.save(best_model, 'PML_Final_Model.pt')"
   ]
  }
 ],
 "metadata": {
  "kernelspec": {
   "display_name": "Python 3",
   "language": "python",
   "name": "python3"
  },
  "language_info": {
   "codemirror_mode": {
    "name": "ipython",
    "version": 3
   },
   "file_extension": ".py",
   "mimetype": "text/x-python",
   "name": "python",
   "nbconvert_exporter": "python",
   "pygments_lexer": "ipython3",
   "version": "3.12.0"
  }
 },
 "nbformat": 4,
 "nbformat_minor": 2
}
